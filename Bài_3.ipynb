{
  "nbformat": 4,
  "nbformat_minor": 0,
  "metadata": {
    "colab": {
      "name": "Bài 3",
      "provenance": [],
      "authorship_tag": "ABX9TyMjsehf6hYERcIw2ZpnoLjN",
      "include_colab_link": true
    },
    "kernelspec": {
      "name": "python3",
      "display_name": "Python 3"
    }
  },
  "cells": [
    {
      "cell_type": "markdown",
      "metadata": {
        "id": "view-in-github",
        "colab_type": "text"
      },
      "source": [
        "<a href=\"https://colab.research.google.com/github/nhat41555/Bai3/blob/main/B%C3%A0i_3.ipynb\" target=\"_parent\"><img src=\"https://colab.research.google.com/assets/colab-badge.svg\" alt=\"Open In Colab\"/></a>"
      ]
    },
    {
      "cell_type": "markdown",
      "metadata": {
        "id": "ivCTk9U6mDwv"
      },
      "source": [
        "1) Tạo một biến x kiểu List rỗng\r\n"
      ]
    },
    {
      "cell_type": "code",
      "metadata": {
        "id": "8KYJUVhmY_Fe"
      },
      "source": [
        "x=[]\r\n",
        "\r\n",
        "\r\n"
      ],
      "execution_count": 2,
      "outputs": []
    },
    {
      "cell_type": "markdown",
      "metadata": {
        "id": "PZ_0rGosmM_-"
      },
      "source": [
        "2) Thêm giá trị 18 vào x"
      ]
    },
    {
      "cell_type": "code",
      "metadata": {
        "id": "J5GxH7LvmQ3s"
      },
      "source": [
        "x.append(\"18\")"
      ],
      "execution_count": 16,
      "outputs": []
    },
    {
      "cell_type": "markdown",
      "metadata": {
        "id": "ITGbb8scm1K_"
      },
      "source": [
        "3) Thêm giá trị \"Huế\" vào x"
      ]
    },
    {
      "cell_type": "code",
      "metadata": {
        "id": "O85E_nMqm692"
      },
      "source": [
        "x.append(\"Huế\")"
      ],
      "execution_count": 15,
      "outputs": []
    },
    {
      "cell_type": "markdown",
      "metadata": {
        "id": "AjOP3tBEnNd6"
      },
      "source": [
        "4) Tạo 1 List  y = [12, 45, -1, -0.56, \"abc\"]\r\n"
      ]
    },
    {
      "cell_type": "code",
      "metadata": {
        "id": "3O1p-fk9nUtx"
      },
      "source": [
        "y = [12, 45, -1, -0.56,\"abc\"]"
      ],
      "execution_count": 14,
      "outputs": []
    },
    {
      "cell_type": "markdown",
      "metadata": {
        "id": "LCPdWWFcneYL"
      },
      "source": [
        "5) Thêm y vào x"
      ]
    },
    {
      "cell_type": "code",
      "metadata": {
        "id": "H3U8rkR2njGb"
      },
      "source": [
        "x.extend(y)"
      ],
      "execution_count": 17,
      "outputs": []
    },
    {
      "cell_type": "markdown",
      "metadata": {
        "id": "Wxp3eRr6nsUT"
      },
      "source": [
        "6) Xuất giá trị của x ra màn hình"
      ]
    },
    {
      "cell_type": "code",
      "metadata": {
        "colab": {
          "base_uri": "https://localhost:8080/"
        },
        "id": "uvd4_2uxnueL",
        "outputId": "39c79e48-a9ac-4fc5-e80d-5e2a5eb35b25"
      },
      "source": [
        "print(\"x: \", x)"
      ],
      "execution_count": 9,
      "outputs": [
        {
          "output_type": "stream",
          "text": [
            "x:  ['18', 'Huế', 12, 45, -1, -0.56, 'abc', 12, 45, -1, -0.56, 'abc']\n"
          ],
          "name": "stdout"
        }
      ]
    },
    {
      "cell_type": "markdown",
      "metadata": {
        "id": "uoTxOunqnyFL"
      },
      "source": [
        "7) In ra màn hình giá trị của phần tử cuối cùng và phần tử đầu tiên của x"
      ]
    },
    {
      "cell_type": "code",
      "metadata": {
        "colab": {
          "base_uri": "https://localhost:8080/"
        },
        "id": "_FuKtvR3n3m6",
        "outputId": "92f8d6d6-94dd-4551-f27c-354b9d664d44"
      },
      "source": [
        "print(x[-1],\"--\",x[0])"
      ],
      "execution_count": 10,
      "outputs": [
        {
          "output_type": "stream",
          "text": [
            "abc -- 18\n"
          ],
          "name": "stdout"
        }
      ]
    },
    {
      "cell_type": "markdown",
      "metadata": {
        "id": "h43w_cyWn8ty"
      },
      "source": [
        "\r\n",
        "8) In ra màn hình giá trị của phần tử đầu tiên đến phần tử thứ 5 của x"
      ]
    },
    {
      "cell_type": "code",
      "metadata": {
        "colab": {
          "base_uri": "https://localhost:8080/"
        },
        "id": "ehzlwWU4oBIa",
        "outputId": "37f5dff7-5c41-4c78-bf46-7eef859c1d3e"
      },
      "source": [
        "print(x[0:5])"
      ],
      "execution_count": 11,
      "outputs": [
        {
          "output_type": "stream",
          "text": [
            "['18', 'Huế', 12, 45, -1]\n"
          ],
          "name": "stdout"
        }
      ]
    },
    {
      "cell_type": "markdown",
      "metadata": {
        "id": "fFWH_iKtoECK"
      },
      "source": [
        "9) In ra màn hình giá trị của phần từ thứ 3 đến cuối cùng của x"
      ]
    },
    {
      "cell_type": "code",
      "metadata": {
        "colab": {
          "base_uri": "https://localhost:8080/"
        },
        "id": "6koDFMYNoLRj",
        "outputId": "24cccef1-21c1-4870-ccd9-2206b4d5f718"
      },
      "source": [
        "print(x[2:])"
      ],
      "execution_count": 12,
      "outputs": [
        {
          "output_type": "stream",
          "text": [
            "[12, 45, -1, -0.56, 'abc', 12, 45, -1, -0.56, 'abc']\n"
          ],
          "name": "stdout"
        }
      ]
    }
  ]
}